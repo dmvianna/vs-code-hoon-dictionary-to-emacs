{
 "cells": [
  {
   "cell_type": "code",
   "execution_count": null,
   "id": "87325ce1-6e7c-4899-aa7f-1674382d86df",
   "metadata": {},
   "outputs": [],
   "source": [
    "ls"
   ]
  },
  {
   "cell_type": "code",
   "execution_count": null,
   "id": "9761b452-ed75-4f8a-97cc-c0184d40a0c5",
   "metadata": {},
   "outputs": [],
   "source": [
    "import json"
   ]
  },
  {
   "cell_type": "code",
   "execution_count": null,
   "id": "d3c12176-fde5-412d-b804-5aceb534294c",
   "metadata": {},
   "outputs": [],
   "source": [
    "with open(\"hoon-dictionary.json\", \"r\") as hd:\n",
    "    hd = json.load(hd)\n",
    "hd"
   ]
  },
  {
   "cell_type": "code",
   "execution_count": null,
   "id": "7c5f8a3d-3262-41cd-8d4b-5d2bc51f5208",
   "metadata": {},
   "outputs": [],
   "source": [
    "with open(\"stdlib-dictionary.json\", \"r\") as sd:\n",
    "    sd = json.load(sd)\n",
    "sd"
   ]
  },
  {
   "cell_type": "code",
   "execution_count": null,
   "id": "581b0171-b2dc-4bee-826d-0d3929f82fb1",
   "metadata": {},
   "outputs": [],
   "source": [
    "from pandas import *"
   ]
  },
  {
   "cell_type": "code",
   "execution_count": null,
   "id": "d625d0f4-965b-4be3-a6ba-50c409b3d166",
   "metadata": {},
   "outputs": [],
   "source": [
    "runes = DataFrame(index=hd.keys(), data=hd.values(), columns=['doc'])\n",
    "runes['group'] = ['runes'] * len(hd)\n",
    "runes"
   ]
  },
  {
   "cell_type": "code",
   "execution_count": null,
   "id": "40ea976a-953d-4bba-9268-518ca27dab2f",
   "metadata": {},
   "outputs": [],
   "source": [
    "stdlib = DataFrame(index=sd.keys(), data=sd.values(), columns=['doc'])\n",
    "stdlib['group'] = ['stdlib'] * len(sd)\n",
    "stdlib"
   ]
  },
  {
   "cell_type": "code",
   "execution_count": null,
   "id": "0933154d-a949-448f-a359-2a870f7d09c5",
   "metadata": {},
   "outputs": [],
   "source": [
    "items = concat([runes, stdlib])\n",
    "items"
   ]
  },
  {
   "cell_type": "code",
   "execution_count": null,
   "id": "12d1953b-8158-4171-bc80-275ef1df9294",
   "metadata": {},
   "outputs": [],
   "source": [
    "# from markdown2 import markdown"
   ]
  },
  {
   "cell_type": "markdown",
   "id": "c96cc4f1-4bbe-406d-b246-207bf2026ffe",
   "metadata": {},
   "source": [
    "Now our dictionaries come with HTML already"
   ]
  },
  {
   "cell_type": "code",
   "execution_count": null,
   "id": "6c0d83dc-122e-4f31-8eb2-c8689a7f4d22",
   "metadata": {},
   "outputs": [],
   "source": [
    "out = items[[\"doc\"]]\n",
    "out[\"keys\"] = items.index.to_series().apply(lambda x: (x,))\n",
    "out"
   ]
  },
  {
   "cell_type": "code",
   "execution_count": null,
   "id": "bc76da19-0c7d-4e2a-806c-4397cf00a4ac",
   "metadata": {
    "scrolled": true
   },
   "outputs": [],
   "source": [
    "from collections import OrderedDict\n",
    "\n",
    "finale = out.set_index('keys', drop=False).to_dict(\"records\")\n",
    "finale = list(map(lambda x: OrderedDict(reversed(sorted(x.items()))), finale))\n",
    "finale"
   ]
  },
  {
   "cell_type": "code",
   "execution_count": null,
   "id": "ad04d631-949e-473d-b0ee-46586fb0804e",
   "metadata": {},
   "outputs": [],
   "source": [
    "import pathlib\n",
    "pathlib.Path(\"hoon-mode-dictionary.json\").write_text(json.dumps(finale, indent=4))"
   ]
  },
  {
   "cell_type": "code",
   "execution_count": null,
   "id": "213e406f-47ef-44b5-a745-4d5e06b85185",
   "metadata": {},
   "outputs": [],
   "source": []
  }
 ],
 "metadata": {
  "kernelspec": {
   "display_name": "Python 3 (ipykernel)",
   "language": "python",
   "name": "python3"
  },
  "language_info": {
   "codemirror_mode": {
    "name": "ipython",
    "version": 3
   },
   "file_extension": ".py",
   "mimetype": "text/x-python",
   "name": "python",
   "nbconvert_exporter": "python",
   "pygments_lexer": "ipython3",
   "version": "3.10.8"
  }
 },
 "nbformat": 4,
 "nbformat_minor": 5
}
