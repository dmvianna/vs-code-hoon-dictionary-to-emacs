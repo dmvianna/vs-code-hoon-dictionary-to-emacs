{
 "cells": [
  {
   "cell_type": "code",
   "execution_count": null,
   "id": "8541b397-a36b-4509-ad36-54566a05cbcd",
   "metadata": {},
   "outputs": [],
   "source": [
    "import re\n",
    "import json\n",
    "import requests\n",
    "import pandas\n",
    "import pathlib\n",
    "from collections import OrderedDict\n",
    "from markdown2 import markdown\n",
    "import numpy as np\n",
    "from typing import *"
   ]
  },
  {
   "cell_type": "markdown",
   "id": "f42ba139-b722-4357-9a9d-cbc8667ac90c",
   "metadata": {},
   "source": [
    "Get raw data"
   ]
  },
  {
   "cell_type": "code",
   "execution_count": null,
   "id": "f666c2fa-08a0-493d-9092-6eaf9f1e05c8",
   "metadata": {},
   "outputs": [],
   "source": [
    "def crawl_items(directory: str, items: List[str]) -> Dict[str, str]:\n",
    "    \"get content from developers.urbit.org by directory and page name.\"\n",
    "    groups = dict()\n",
    "    for item in items:\n",
    "        result = requests.get(\n",
    "            \"https://raw.githubusercontent.com/urbit/developers.urbit.org/main/content/reference/hoon/{}/{}.md\".format(\n",
    "                directory, \n",
    "                item\n",
    "            )\n",
    "        )\n",
    "        if(result.status_code == 200):\n",
    "            groups[item] = result.text\n",
    "        else:\n",
    "            print(result.status_code)\n",
    "            raise Exception(result.text)\n",
    "    return groups"
   ]
  },
  {
   "cell_type": "code",
   "execution_count": null,
   "id": "b98de683-f9b4-44f6-9589-38cfd854bbc5",
   "metadata": {},
   "outputs": [],
   "source": [
    "rune_pages = [\"bar\",\"buc\",\"cen\",\"col\",\"dot\",\"fas\",\"ket\",\"lus\",\"mic\",\"sig\",\"tis\",\"wut\",\"zap\"]\n",
    "rune_groups = crawl_items('rune', rune_pages)\n",
    "\n",
    "stdlib_pages = [\"1a\", \"1b\", \"1c\", \"2a\", \"2b\", \"2c\", \"2d\", \"2e\", \"2e\", \"2f\", \"2g\", \"2h\", \"2i\", \"2j\",\n",
    "     \"2k\", \"2l\", \"2m\", \"2n\", \"2o\", \"2p\", \"2q\", \"3a\", \"3b\", \"3c\", \"3d\", \"3f\", \"3g\", \"4a\", \"4b\",\n",
    "     \"4c\", \"4d\", \"4e\", \"4f\", \"4g\", \"4h\", \"4i\", \"4j\", \"4k\", \"4l\", \"4m\", \"4n\", \"4o\", \"5a\", \"5b\", \"5c\",\n",
    "     \"5d\", \"5e\", \"5f\"]\n",
    "stdlib_groups = crawl_items('stdlib', stdlib_pages)"
   ]
  },
  {
   "cell_type": "markdown",
   "id": "7ae35ab2-a7f6-4f75-8d27-ed7c77db52f1",
   "metadata": {},
   "source": [
    "Convert tables to markdown"
   ]
  },
  {
   "cell_type": "code",
   "execution_count": null,
   "id": "48cc6384-9300-4e8f-a959-dfd4a628e7c4",
   "metadata": {},
   "outputs": [],
   "source": [
    "rune_groups.keys()"
   ]
  },
  {
   "cell_type": "code",
   "execution_count": null,
   "id": "211e5c81-5f83-4b57-b179-ef1ef91fe1bb",
   "metadata": {},
   "outputs": [],
   "source": [
    "def trim_page_index(groups: Dict[str, str]) -> str:\n",
    "    \"\"\"Remove markdown index from beginning of pages and add all content to a single string.\"\"\"\n",
    "    raw = \"\"\n",
    "    for name in groups.keys():\n",
    "        start_ix = groups[name].index(\"## `\")\n",
    "        raw += \"\\n\" + groups[name][start_ix:]\n",
    "    return raw"
   ]
  },
  {
   "cell_type": "code",
   "execution_count": null,
   "id": "5261db10-0380-451b-b28a-106ddb3fefc6",
   "metadata": {},
   "outputs": [],
   "source": [
    "runes_trimmed = trim_page_index(rune_groups)\n",
    "stdlib_trimmed = trim_page_index(stdlib_groups)"
   ]
  },
  {
   "cell_type": "code",
   "execution_count": null,
   "id": "6c48b4a8-f016-47ca-8085-30fe7546418f",
   "metadata": {},
   "outputs": [],
   "source": [
    "def string_to_dict(raw: str) -> Dict[str, str]:\n",
    "    \"\"\"Split trimmed individual content into a dictionary.\"\"\"\n",
    "    raw_splits = list(filter(lambda x: len(x), raw.split(\"\\n## \")))  # split strings\n",
    "    keys = list(map(lambda x: x[x.find('`') + 1:x.find('`', 1)], raw_splits))\n",
    "    splits = dict(zip(keys, ['\\n## ' + s for s in raw_splits]))  # add back markdown highlight\n",
    "    return splits"
   ]
  },
  {
   "cell_type": "code",
   "execution_count": null,
   "id": "7724b11e-cca2-4442-994b-a0f859c6d820",
   "metadata": {},
   "outputs": [],
   "source": [
    "rune_dict = string_to_dict(runes_trimmed)\n",
    "stdlib_dict = string_to_dict(stdlib_trimmed)"
   ]
  },
  {
   "cell_type": "code",
   "execution_count": null,
   "id": "a7310393-b004-483a-8ceb-1f466ab84dd9",
   "metadata": {},
   "outputs": [],
   "source": [
    "runes_trimmed[:100]"
   ]
  },
  {
   "cell_type": "code",
   "execution_count": null,
   "id": "3e465907-d22e-4ca5-8ae5-3549e92d8b3c",
   "metadata": {},
   "outputs": [],
   "source": [
    "print(rune_dict.keys())\n",
    "# print(rune_dict)"
   ]
  },
  {
   "cell_type": "code",
   "execution_count": null,
   "id": "e4d058d7-a14b-4124-8fc5-ee47fc1818e1",
   "metadata": {},
   "outputs": [],
   "source": [
    "print(rune_dict['!<'])"
   ]
  },
  {
   "cell_type": "code",
   "execution_count": null,
   "id": "bc2a3d88-6d9e-42a6-9831-781ebcec34ce",
   "metadata": {},
   "outputs": [],
   "source": [
    "def convert_to_vs_markdown(a):\n",
    "  # a = a.replace(\"`\", \"\\`\")\n",
    "  match = re.search(\"{% table %}\\n([\\s\\S]*?){% /table %}\", a)\n",
    "  while match:\n",
    "    b = match.group(1).split(\"---\\n\")\n",
    "    c = list(map(lambda x: x.split(\"\\n- \")[1:], b))\n",
    "\n",
    "    table_string = \"\"\n",
    "    for i, d in enumerate(c):\n",
    "      if(not d):\n",
    "        continue\n",
    "      x = d[1].split(\"```\")\n",
    "      if len(x) == 3:\n",
    "        if(x[1].lower().startswith(\"hoon\")):\n",
    "          x[1] = x[1][5:]\n",
    "        d[1] = \"<pre>{}</pre>\".format(\n",
    "            x[1].replace(\n",
    "                \"```hoon\",\"<code>\"\n",
    "            ).replace(\n",
    "                \"```\",\"</code>\"\n",
    "            ).replace(\n",
    "                \"\\n\", \"<p>\"\n",
    "            ).replace(\n",
    "                \"|\", \"&verbar;\"\n",
    "            )\n",
    "        )\n",
    "      else:\n",
    "        d[1] = d[1].replace(\"\\n\",\"\")\n",
    "      d[0] = d[0].replace(\"\\n\",\"\")\n",
    "      table_string += \"| {} | {} |\\n\".format(d[0],d[1])\n",
    "      if(i == 0):\n",
    "        table_string += \"| :----: | :---: |\\n\"\n",
    "\n",
    "    a = a[:match.start()] + table_string + a[match.end():]\n",
    "    # print(table_string)\n",
    "    match = re.search(\"{% table %}\\n([\\s\\S]*?){% /table %}\", a)\n",
    "  return a.replace(\n",
    "          \"/reference/\",\"https://developers.urbit.org/reference/\"\n",
    "      )"
   ]
  },
  {
   "cell_type": "code",
   "execution_count": null,
   "id": "13b81dfe-a58c-40e3-9c7b-72d8db4705ec",
   "metadata": {
    "scrolled": true
   },
   "outputs": [],
   "source": [
    "print(convert_to_vs_markdown(rune_dict['!<']))"
   ]
  },
  {
   "cell_type": "code",
   "execution_count": null,
   "id": "dee1d12d-fc23-4134-b123-0a81b9ed34b5",
   "metadata": {},
   "outputs": [],
   "source": [
    "parsed_runes = {k: convert_to_vs_markdown(v) for k,v in rune_dict.items()}\n",
    "parsed_stdlib = {k: convert_to_vs_markdown(v) for k,v in stdlib_dict.items()}\n",
    "# parsed_runes"
   ]
  },
  {
   "cell_type": "code",
   "execution_count": null,
   "id": "b11da71a-34b3-4f32-93e0-6111b6f0ed66",
   "metadata": {},
   "outputs": [],
   "source": [
    "print(parsed_runes['%^'])"
   ]
  },
  {
   "cell_type": "code",
   "execution_count": null,
   "id": "21a1ddc4-4183-46f2-b3c5-6d3b22e2436c",
   "metadata": {},
   "outputs": [],
   "source": [
    "def parse_forms(string: str) -> Tuple[str, str]:\n",
    "    \"\"\"Extract Tall and Wide forms from runes.\"\"\"\n",
    "    tall = re.search('(?<=\\| Tall \\| <pre>  )([^\\s]+)', string.replace(\"&verbar;\",\"|\"))\n",
    "    wide = re.search('(?<=\\| Wide \\| <pre>  )([^a-z\\s]+)', string.replace(\"&verbar;\", \"|\"))\n",
    "    irregular = re.search('(?<=\\| Irregular \\| <pre>)(?:\\s*(?:<p>)?\\s+)([^a-z\\s<]+)', string.replace(\"&verbar;\", \"|\"))\n",
    "    return (tall.group() if tall else np.nan,\n",
    "            wide.group() if wide else np.nan,\n",
    "            irregular.groups()[0] if irregular else np.nan)"
   ]
  },
  {
   "cell_type": "code",
   "execution_count": null,
   "id": "d85b3c84-f973-4606-8d6d-c2a6ec14220c",
   "metadata": {},
   "outputs": [],
   "source": [
    "rune_forms = {k: parse_forms(v) for k, v in parsed_runes.items()}\n",
    "print(rune_forms['%:'])\n",
    "print(rune_forms['!<'])"
   ]
  },
  {
   "cell_type": "code",
   "execution_count": null,
   "id": "5c458c9f-3c85-42dc-9885-e9955485cdb0",
   "metadata": {},
   "outputs": [],
   "source": [
    "html_runes = {k: markdown(v, extras=['tables', 'fenced-code-blocks']).replace(\"&verbar;\", \"|\") for k,v in parsed_runes.items()}\n",
    "html_stdlib = {k: markdown(v, extras=['tables', 'fenced-code-blocks']).replace(\"&verbar;\", \"|\") for k,v in parsed_stdlib.items()}\n",
    "# html_runes"
   ]
  },
  {
   "cell_type": "code",
   "execution_count": null,
   "id": "e8b03257-294b-489c-854b-3610a47a13b8",
   "metadata": {},
   "outputs": [],
   "source": [
    "print(html_runes['%~'])"
   ]
  },
  {
   "cell_type": "code",
   "execution_count": null,
   "id": "672f36d6-67ac-4f2a-b246-400de2f44f35",
   "metadata": {},
   "outputs": [],
   "source": [
    "runes = pandas.DataFrame(index=html_runes.keys(), data=html_runes.values(), columns=['doc'])\n",
    "runes['group'] = ['runes'] * len(html_runes)\n",
    "\n",
    "# stdlib needs ++ trimmed from the front so that it can be matched within code\n",
    "stdlib = pandas.DataFrame(index=map(lambda x: x[2:], html_stdlib.keys()), data=html_stdlib.values(), columns=['doc'])\n",
    "stdlib['group'] = ['stdlib'] * len(html_stdlib)\n",
    "\n",
    "wide = pandas.DataFrame(index=rune_forms.keys(), data=rune_forms.values(), columns=['tall', 'wide', 'irregular'])\n",
    "\n",
    "items = pandas.concat([pandas.concat([runes, stdlib]), wide], axis=1)\n",
    "items['index'] = items.index\n",
    "items.loc[:,\"keys\"] = items[['index', 'wide', 'irregular']].apply(tuple, axis=1)\n",
    "items"
   ]
  },
  {
   "cell_type": "code",
   "execution_count": null,
   "id": "b5e55b5d-0886-4d4e-a1a5-1fbe09415a91",
   "metadata": {},
   "outputs": [],
   "source": [
    "items.loc['%~']"
   ]
  },
  {
   "cell_type": "code",
   "execution_count": null,
   "id": "bd718f1a-3764-48d0-aba1-888335b2ebf4",
   "metadata": {},
   "outputs": [],
   "source": [
    "out = items[[\"doc\"]]\n",
    "out.loc[:, \"keys\"] = items.loc[:, \"keys\"].apply(lambda xs: tuple(i for i in xs if isinstance(i, str)))\n",
    "out"
   ]
  },
  {
   "cell_type": "code",
   "execution_count": null,
   "id": "75da5b33-d9eb-454f-9115-d994ea40f395",
   "metadata": {},
   "outputs": [],
   "source": [
    "finale = out.set_index('keys', drop=False).to_dict(\"records\")\n",
    "finale = list(map(lambda x: OrderedDict(reversed(sorted(x.items()))), finale))\n",
    "finale"
   ]
  },
  {
   "cell_type": "code",
   "execution_count": null,
   "id": "369117ca-0669-4ee9-9279-0955de896287",
   "metadata": {},
   "outputs": [],
   "source": [
    "import pathlib\n",
    "pathlib.Path(\"hoon-dictionary.json\").write_text(json.dumps(finale, indent=4))"
   ]
  },
  {
   "cell_type": "code",
   "execution_count": null,
   "id": "931c7710-aae6-4b98-b4fe-f9bf7ea0ae07",
   "metadata": {},
   "outputs": [],
   "source": [
    "print(out.loc['%~','doc'])"
   ]
  }
 ],
 "metadata": {
  "kernelspec": {
   "display_name": "Python 3 (ipykernel)",
   "language": "python",
   "name": "python3"
  },
  "language_info": {
   "codemirror_mode": {
    "name": "ipython",
    "version": 3
   },
   "file_extension": ".py",
   "mimetype": "text/x-python",
   "name": "python",
   "nbconvert_exporter": "python",
   "pygments_lexer": "ipython3",
   "version": "3.10.8"
  }
 },
 "nbformat": 4,
 "nbformat_minor": 5
}
