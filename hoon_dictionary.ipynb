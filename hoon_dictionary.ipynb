{
 "cells": [
  {
   "cell_type": "code",
   "execution_count": null,
   "id": "8541b397-a36b-4509-ad36-54566a05cbcd",
   "metadata": {},
   "outputs": [],
   "source": [
    "import re\n",
    "import json\n",
    "import requests\n",
    "import pandas\n",
    "import pathlib\n",
    "from collections import OrderedDict\n",
    "from markdown2 import markdown"
   ]
  },
  {
   "cell_type": "markdown",
   "id": "f42ba139-b722-4357-9a9d-cbc8667ac90c",
   "metadata": {},
   "source": [
    "Get raw data"
   ]
  },
  {
   "cell_type": "code",
   "execution_count": null,
   "id": "323f33a0-2089-4f6f-ba68-9343e2df450c",
   "metadata": {},
   "outputs": [],
   "source": [
    "rune_groups = dict()\n",
    "stdlib_groups = dict()"
   ]
  },
  {
   "cell_type": "code",
   "execution_count": null,
   "id": "b98de683-f9b4-44f6-9589-38cfd854bbc5",
   "metadata": {},
   "outputs": [],
   "source": [
    "for item in [\"bar\",\"buc\",\"cen\",\"col\",\"dot\",\"fas\",\"ket\",\"lus\",\"mic\",\"sig\",\"tis\",\"wut\",\"zap\"]:\n",
    "    result = requests.get(\"https://raw.githubusercontent.com/urbit/developers.urbit.org/main/content/reference/hoon/rune/{}.md\".format(item))\n",
    "    if(result.status_code == 200):\n",
    "        rune_groups[item] = result.text\n",
    "    else:\n",
    "        print(result.status_code)\n",
    "        raise Exception(result.text)"
   ]
  },
  {
   "cell_type": "code",
   "execution_count": null,
   "id": "0759e0f1-ffc8-4eac-980d-121b9fef1e2f",
   "metadata": {},
   "outputs": [],
   "source": [
    "for item in [\"1a\", \"1b\", \"1c\", \"2a\", \"2b\", \"2c\", \"2d\", \"2e\", \"2e\", \"2f\", \"2g\", \"2h\", \"2i\", \"2j\",\n",
    "     \"2k\", \"2l\", \"2m\", \"2n\", \"2o\", \"2p\", \"2q\", \"3a\", \"3b\", \"3c\", \"3d\", \"3e\", \"3f\", \"3g\", \"4a\", \"4b\",\n",
    "     \"4c\", \"4d\", \"4e\", \"4f\", \"4g\", \"4h\", \"4i\", \"4j\", \"4k\", \"4l\", \"4m\", \"4n\", \"4o\", \"5a\", \"5b\", \"5c\",\n",
    "     \"5d\", \"5e\", \"5f\"]:\n",
    "    result = requests.get(\"https://raw.githubusercontent.com/urbit/developers.urbit.org/main/content/reference/hoon/stdlib/{}.md\".format(item))\n",
    "    if(result.status_code == 200):\n",
    "        stdlib_groups[item] = result.text\n",
    "    else:\n",
    "        print(result.status_code)\n",
    "        raise Exception(result.text)"
   ]
  },
  {
   "cell_type": "markdown",
   "id": "7ae35ab2-a7f6-4f75-8d27-ed7c77db52f1",
   "metadata": {},
   "source": [
    "Convert tables to markdown"
   ]
  },
  {
   "cell_type": "code",
   "execution_count": null,
   "id": "48cc6384-9300-4e8f-a959-dfd4a628e7c4",
   "metadata": {},
   "outputs": [],
   "source": [
    "rune_groups.keys()"
   ]
  },
  {
   "cell_type": "code",
   "execution_count": null,
   "id": "5261db10-0380-451b-b28a-106ddb3fefc6",
   "metadata": {},
   "outputs": [],
   "source": [
    "raw_runes = \"\"\n",
    "for name in rune_groups.keys():\n",
    "    start_ix = rune_groups[name].index(\"## `\")\n",
    "    raw_runes += \"\\n\" + rune_groups[name][start_ix:]\n",
    "raw_runes"
   ]
  },
  {
   "cell_type": "code",
   "execution_count": null,
   "id": "7724b11e-cca2-4442-994b-a0f859c6d820",
   "metadata": {},
   "outputs": [],
   "source": [
    "raw_splits = list(filter(lambda x: len(x), raw_runes.split(\"\\n## \")))\n",
    "rune_keys = list(map(lambda x: x[1:3], raw_splits))\n",
    "rune_dict = dict(zip(rune_keys, raw_splits))\n",
    "rune_dict"
   ]
  },
  {
   "cell_type": "code",
   "execution_count": null,
   "id": "e4d058d7-a14b-4124-8fc5-ee47fc1818e1",
   "metadata": {},
   "outputs": [],
   "source": [
    "print(rune_dict['|_'])"
   ]
  },
  {
   "cell_type": "code",
   "execution_count": null,
   "id": "bc2a3d88-6d9e-42a6-9831-781ebcec34ce",
   "metadata": {},
   "outputs": [],
   "source": [
    "def convert_to_vs_markdown(a):\n",
    "  # a = a.replace(\"`\", \"\\`\")\n",
    "  match = re.search(\"{% table %}\\n([\\s\\S]*?){% /table %}\", a)\n",
    "  while match:\n",
    "    b = match.group(1).split(\"---\\n\")\n",
    "    c = list(map(lambda x: x.split(\"\\n- \")[1:], b))\n",
    "\n",
    "    table_string = \"\"\n",
    "    for i, d in enumerate(c):\n",
    "      if(not d):\n",
    "        continue\n",
    "      x = d[1].split(\"```\")\n",
    "      if len(x) == 3:\n",
    "        if(x[1].lower().startswith(\"hoon\")):\n",
    "          x[1] = x[1][5:]\n",
    "        d[1] = \"<pre>{}</pre>\".format(x[1].replace(\"```hoon\",\"```\").replace(\"\\n\", \"<p>\").replace(\"|\", \"&verbar;\"))\n",
    "      else:\n",
    "        d[1] = d[1].replace(\"\\n\",\"\")\n",
    "      d[0] = d[0].replace(\"\\n\",\"\")\n",
    "      table_string += \"| {} | {} |\\n\".format(d[0],d[1])\n",
    "      if(i == 0):\n",
    "        table_string += \"| :----: | :---: |\\n\"\n",
    "\n",
    "    a = a[:match.start()] + table_string + a[match.end():]\n",
    "    # print(table_string)\n",
    "    match = re.search(\"{% table %}\\n([\\s\\S]*?){% /table %}\", a)\n",
    "  return a"
   ]
  },
  {
   "cell_type": "code",
   "execution_count": null,
   "id": "13b81dfe-a58c-40e3-9c7b-72d8db4705ec",
   "metadata": {
    "scrolled": true
   },
   "outputs": [],
   "source": [
    "print(convert_to_vs_markdown(rune_dict['|_']))"
   ]
  },
  {
   "cell_type": "code",
   "execution_count": null,
   "id": "dee1d12d-fc23-4134-b123-0a81b9ed34b5",
   "metadata": {},
   "outputs": [],
   "source": [
    "parsed_runes = {k: convert_to_vs_markdown(v) for k,v in rune_dict.items()}\n",
    "parsed_runes"
   ]
  },
  {
   "cell_type": "code",
   "execution_count": null,
   "id": "b11da71a-34b3-4f32-93e0-6111b6f0ed66",
   "metadata": {},
   "outputs": [],
   "source": [
    "print(parsed_runes['|_'])"
   ]
  },
  {
   "cell_type": "code",
   "execution_count": null,
   "id": "5c458c9f-3c85-42dc-9885-e9955485cdb0",
   "metadata": {},
   "outputs": [],
   "source": [
    "html_runes = {k: markdown(v, extras='tables').replace(\"&verbar;\", \"|\") for k,v in parsed_runes.items()}\n",
    "html_runes"
   ]
  },
  {
   "cell_type": "code",
   "execution_count": null,
   "id": "e8b03257-294b-489c-854b-3610a47a13b8",
   "metadata": {},
   "outputs": [],
   "source": [
    "print(html_runes['|_'])"
   ]
  },
  {
   "cell_type": "code",
   "execution_count": null,
   "id": "901e8342-f23c-4139-ba8f-9b7921eb790c",
   "metadata": {},
   "outputs": [],
   "source": [
    "pathlib.Path(\"hoon-dictionary.json\").write_text(json.dumps(html_runes, indent=4))"
   ]
  },
  {
   "cell_type": "code",
   "execution_count": null,
   "id": "672f36d6-67ac-4f2a-b246-400de2f44f35",
   "metadata": {},
   "outputs": [],
   "source": []
  }
 ],
 "metadata": {
  "kernelspec": {
   "display_name": "Python 3 (ipykernel)",
   "language": "python",
   "name": "python3"
  },
  "language_info": {
   "codemirror_mode": {
    "name": "ipython",
    "version": 3
   },
   "file_extension": ".py",
   "mimetype": "text/x-python",
   "name": "python",
   "nbconvert_exporter": "python",
   "pygments_lexer": "ipython3",
   "version": "3.10.8"
  }
 },
 "nbformat": 4,
 "nbformat_minor": 5
}
